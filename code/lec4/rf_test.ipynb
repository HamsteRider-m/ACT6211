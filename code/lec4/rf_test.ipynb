{
 "cells": [
  {
   "cell_type": "markdown",
   "metadata": {},
   "source": [
    "**1. downsample to daily, `one obversation`daily**\n",
    "\n",
    "**2. calculate the `daily return`**\n",
    "\n",
    "**3. `feature`: 昨天的return， `target`: 下一天的return**\n",
    "\n",
    "**4. `labeling` y>0 为1 y<0 为-1**"
   ]
  },
  {
   "cell_type": "code",
   "execution_count": 63,
   "metadata": {},
   "outputs": [],
   "source": [
    "import sklearn\n",
    "from sklearn.linear_model import LogisticRegression\n",
    "from sklearn.svm import SVC, LinearSVC\n",
    "from sklearn.ensemble import RandomForestClassifier\n",
    "from sklearn.model_selection import cross_val_score\n",
    "import pandas as pd"
   ]
  },
  {
   "cell_type": "code",
   "execution_count": 44,
   "metadata": {},
   "outputs": [
    {
     "name": "stdout",
     "output_type": "stream",
     "text": [
      "/mnt/c/Users/HansonMei/OneDrive - CUHK-Shenzhen/深高金/Courses/Third Semester_C/Financial Data Driven Quant/BlackBoard/code/lec4\n"
     ]
    }
   ],
   "source": [
    "import os\n",
    "os.chdir('/mnt/c/Users/HansonMei/OneDrive - CUHK-Shenzhen/深高金/Courses/Third Semester_C/Financial Data Driven Quant/BlackBoard/code/lec4')\n",
    "!pwd"
   ]
  },
  {
   "cell_type": "code",
   "execution_count": 45,
   "metadata": {},
   "outputs": [],
   "source": [
    "def cprint(df):\n",
    "    if not isinstance(df, (pd.DataFrame)):\n",
    "        try:\n",
    "            df = df.to_frame()\n",
    "        except:\n",
    "            raise ValueError('object cannot be coerced to df')\n",
    "\n",
    "    print('-'*79)\n",
    "    print('dataframe information')\n",
    "    print('-'*79)\n",
    "    print(df.tail(5))\n",
    "    print('-'*50)\n",
    "    print(df.info())\n",
    "    print('-'*79)\n",
    "    print()"
   ]
  },
  {
   "cell_type": "code",
   "execution_count": 46,
   "metadata": {},
   "outputs": [],
   "source": [
    "def read_kibot_ticks(fp):\n",
    "    # read tick data from http://www.kibot.com/support.aspx#data_format\n",
    "    cols = list(map(str.lower,['Date','Time','Price','Bid','Ask','Size']))\n",
    "    df = (pd.read_csv(fp, header=None)\n",
    "          .rename(columns=dict(zip(range(len(cols)),cols)))\n",
    "          .assign(dates=lambda df: (pd.to_datetime(df['date']+df['time'],\n",
    "                                                  format='%m/%d/%Y%H:%M:%S')))\n",
    "          .assign(v=lambda df: df['size']) # volume\n",
    "          .assign(dv=lambda df: df['price']*df['size']) # dollar volume\n",
    "          .drop(['date','time'],axis=1)\n",
    "          .set_index('dates')\n",
    "          .drop_duplicates())\n",
    "    return df\n",
    "\n",
    "data_dir = 'data/IVE_tickbidask.txt'   \n",
    "#infp = PurePath(data_dir/'raw'/'IVE_tickbidask.txt')\n",
    "# infp = PurePath(data_dir+'/raw/IVE_tickbidask.txt')\n",
    "raw_df = read_kibot_ticks(data_dir)"
   ]
  },
  {
   "cell_type": "code",
   "execution_count": 47,
   "metadata": {},
   "outputs": [
    {
     "name": "stdout",
     "output_type": "stream",
     "text": [
      "-------------------------------------------------------------------------------\n",
      "dataframe information\n",
      "-------------------------------------------------------------------------------\n",
      "                      price     bid     ask  size     v        dv\n",
      "dates                                                            \n",
      "2019-10-10 15:59:59  117.41  117.39  117.41   300   300   35223.0\n",
      "2019-10-10 15:59:59  117.40  117.40  117.44   100   100   11740.0\n",
      "2019-10-10 16:00:00  117.40  117.40  117.46  4228  4228  496367.2\n",
      "2019-10-10 16:10:00  117.40  116.96  118.49     0     0       0.0\n",
      "2019-10-10 18:30:00  117.40  115.60  119.36     0     0       0.0\n",
      "--------------------------------------------------\n",
      "<class 'pandas.core.frame.DataFrame'>\n",
      "DatetimeIndex: 1668660 entries, 2009-09-28 09:30:00 to 2019-10-10 18:30:00\n",
      "Data columns (total 6 columns):\n",
      "price    1668660 non-null float64\n",
      "bid      1668660 non-null float64\n",
      "ask      1668660 non-null float64\n",
      "size     1668660 non-null int64\n",
      "v        1668660 non-null int64\n",
      "dv       1668660 non-null float64\n",
      "dtypes: float64(4), int64(2)\n",
      "memory usage: 89.1 MB\n",
      "None\n",
      "-------------------------------------------------------------------------------\n",
      "\n"
     ]
    }
   ],
   "source": [
    "cprint(raw_df)"
   ]
  },
  {
   "cell_type": "code",
   "execution_count": 81,
   "metadata": {},
   "outputs": [
    {
     "data": {
      "text/html": [
       "<div>\n",
       "<style scoped>\n",
       "    .dataframe tbody tr th:only-of-type {\n",
       "        vertical-align: middle;\n",
       "    }\n",
       "\n",
       "    .dataframe tbody tr th {\n",
       "        vertical-align: top;\n",
       "    }\n",
       "\n",
       "    .dataframe thead th {\n",
       "        text-align: right;\n",
       "    }\n",
       "</style>\n",
       "<table border=\"1\" class=\"dataframe\">\n",
       "  <thead>\n",
       "    <tr style=\"text-align: right;\">\n",
       "      <th></th>\n",
       "      <th>price</th>\n",
       "      <th>bid</th>\n",
       "      <th>ask</th>\n",
       "      <th>size</th>\n",
       "      <th>v</th>\n",
       "      <th>dv</th>\n",
       "    </tr>\n",
       "    <tr>\n",
       "      <th>dates</th>\n",
       "      <th></th>\n",
       "      <th></th>\n",
       "      <th></th>\n",
       "      <th></th>\n",
       "      <th></th>\n",
       "      <th></th>\n",
       "    </tr>\n",
       "  </thead>\n",
       "  <tbody>\n",
       "    <tr>\n",
       "      <td>2009-09-28 09:30:00</td>\n",
       "      <td>50.79</td>\n",
       "      <td>50.70</td>\n",
       "      <td>50.79</td>\n",
       "      <td>100</td>\n",
       "      <td>100</td>\n",
       "      <td>5079.00</td>\n",
       "    </tr>\n",
       "    <tr>\n",
       "      <td>2009-09-28 09:30:00</td>\n",
       "      <td>50.71</td>\n",
       "      <td>50.70</td>\n",
       "      <td>50.79</td>\n",
       "      <td>638</td>\n",
       "      <td>638</td>\n",
       "      <td>32352.98</td>\n",
       "    </tr>\n",
       "    <tr>\n",
       "      <td>2009-09-28 09:31:32</td>\n",
       "      <td>50.75</td>\n",
       "      <td>50.75</td>\n",
       "      <td>50.76</td>\n",
       "      <td>100</td>\n",
       "      <td>100</td>\n",
       "      <td>5075.00</td>\n",
       "    </tr>\n",
       "    <tr>\n",
       "      <td>2009-09-28 09:31:33</td>\n",
       "      <td>50.75</td>\n",
       "      <td>50.72</td>\n",
       "      <td>50.75</td>\n",
       "      <td>100</td>\n",
       "      <td>100</td>\n",
       "      <td>5075.00</td>\n",
       "    </tr>\n",
       "    <tr>\n",
       "      <td>2009-09-28 09:31:50</td>\n",
       "      <td>50.75</td>\n",
       "      <td>50.73</td>\n",
       "      <td>50.76</td>\n",
       "      <td>300</td>\n",
       "      <td>300</td>\n",
       "      <td>15225.00</td>\n",
       "    </tr>\n",
       "  </tbody>\n",
       "</table>\n",
       "</div>"
      ],
      "text/plain": [
       "                     price    bid    ask  size    v        dv\n",
       "dates                                                        \n",
       "2009-09-28 09:30:00  50.79  50.70  50.79   100  100   5079.00\n",
       "2009-09-28 09:30:00  50.71  50.70  50.79   638  638  32352.98\n",
       "2009-09-28 09:31:32  50.75  50.75  50.76   100  100   5075.00\n",
       "2009-09-28 09:31:33  50.75  50.72  50.75   100  100   5075.00\n",
       "2009-09-28 09:31:50  50.75  50.73  50.76   300  300  15225.00"
      ]
     },
     "execution_count": 81,
     "metadata": {},
     "output_type": "execute_result"
    }
   ],
   "source": [
    "raw_df.head(5)# v:volume dv: dollar volume"
   ]
  },
  {
   "cell_type": "code",
   "execution_count": 83,
   "metadata": {},
   "outputs": [],
   "source": [
    "raw_df['timestamp'] = raw_df.index"
   ]
  },
  {
   "cell_type": "code",
   "execution_count": 84,
   "metadata": {},
   "outputs": [],
   "source": [
    "# for i in ['year','month','day']:\n",
    "#     df[i] = eval(f\"df['timestamp'].dt.{i}\")"
   ]
  },
  {
   "cell_type": "code",
   "execution_count": 85,
   "metadata": {},
   "outputs": [],
   "source": [
    "raw_df['date'] = raw_df.timestamp.dt.date"
   ]
  },
  {
   "cell_type": "code",
   "execution_count": 86,
   "metadata": {},
   "outputs": [],
   "source": [
    "df = raw_df.resample('1D').aggregate({\"price\":\"last\",\"size\":\"sum\"}) # resample('1D'): resample as one day"
   ]
  },
  {
   "cell_type": "code",
   "execution_count": 87,
   "metadata": {},
   "outputs": [],
   "source": [
    "df.dropna(inplace=True)"
   ]
  },
  {
   "cell_type": "code",
   "execution_count": 88,
   "metadata": {},
   "outputs": [],
   "source": [
    "df['ret'] = df['price'].pct_change()"
   ]
  },
  {
   "cell_type": "code",
   "execution_count": 89,
   "metadata": {},
   "outputs": [],
   "source": [
    "df['yes_ret'] = df['ret'].shift(1)"
   ]
  },
  {
   "cell_type": "code",
   "execution_count": 90,
   "metadata": {},
   "outputs": [],
   "source": [
    "df['labeled_y'] = df.ret.map(lambda x: 1 if x > 0 else -1)"
   ]
  },
  {
   "cell_type": "code",
   "execution_count": 92,
   "metadata": {},
   "outputs": [],
   "source": [
    "df.dropna(inplace=True)"
   ]
  },
  {
   "cell_type": "code",
   "execution_count": 97,
   "metadata": {},
   "outputs": [
    {
     "data": {
      "text/html": [
       "<div>\n",
       "<style scoped>\n",
       "    .dataframe tbody tr th:only-of-type {\n",
       "        vertical-align: middle;\n",
       "    }\n",
       "\n",
       "    .dataframe tbody tr th {\n",
       "        vertical-align: top;\n",
       "    }\n",
       "\n",
       "    .dataframe thead th {\n",
       "        text-align: right;\n",
       "    }\n",
       "</style>\n",
       "<table border=\"1\" class=\"dataframe\">\n",
       "  <thead>\n",
       "    <tr style=\"text-align: right;\">\n",
       "      <th></th>\n",
       "      <th>size</th>\n",
       "      <th>ret</th>\n",
       "      <th>yes_ret</th>\n",
       "      <th>labeled_y</th>\n",
       "    </tr>\n",
       "    <tr>\n",
       "      <th>dates</th>\n",
       "      <th></th>\n",
       "      <th></th>\n",
       "      <th></th>\n",
       "      <th></th>\n",
       "    </tr>\n",
       "  </thead>\n",
       "  <tbody>\n",
       "    <tr>\n",
       "      <td>2009-09-30</td>\n",
       "      <td>280153</td>\n",
       "      <td>-0.003884</td>\n",
       "      <td>-0.000970</td>\n",
       "      <td>-1</td>\n",
       "    </tr>\n",
       "    <tr>\n",
       "      <td>2009-10-01</td>\n",
       "      <td>629083</td>\n",
       "      <td>-0.018978</td>\n",
       "      <td>-0.003884</td>\n",
       "      <td>-1</td>\n",
       "    </tr>\n",
       "    <tr>\n",
       "      <td>2009-10-02</td>\n",
       "      <td>516429</td>\n",
       "      <td>-0.016030</td>\n",
       "      <td>-0.018978</td>\n",
       "      <td>-1</td>\n",
       "    </tr>\n",
       "    <tr>\n",
       "      <td>2009-10-05</td>\n",
       "      <td>286111</td>\n",
       "      <td>0.019871</td>\n",
       "      <td>-0.016030</td>\n",
       "      <td>1</td>\n",
       "    </tr>\n",
       "    <tr>\n",
       "      <td>2009-10-06</td>\n",
       "      <td>219542</td>\n",
       "      <td>0.012005</td>\n",
       "      <td>0.019871</td>\n",
       "      <td>1</td>\n",
       "    </tr>\n",
       "  </tbody>\n",
       "</table>\n",
       "</div>"
      ],
      "text/plain": [
       "              size       ret   yes_ret  labeled_y\n",
       "dates                                            \n",
       "2009-09-30  280153 -0.003884 -0.000970         -1\n",
       "2009-10-01  629083 -0.018978 -0.003884         -1\n",
       "2009-10-02  516429 -0.016030 -0.018978         -1\n",
       "2009-10-05  286111  0.019871 -0.016030          1\n",
       "2009-10-06  219542  0.012005  0.019871          1"
      ]
     },
     "execution_count": 97,
     "metadata": {},
     "output_type": "execute_result"
    }
   ],
   "source": [
    "df.drop(columns='price', inplace=True)\n",
    "df.head()"
   ]
  },
  {
   "cell_type": "code",
   "execution_count": 105,
   "metadata": {},
   "outputs": [
    {
     "data": {
      "text/plain": [
       "((2020, 4), (505, 4))"
      ]
     },
     "execution_count": 105,
     "metadata": {},
     "output_type": "execute_result"
    }
   ],
   "source": [
    "train, test = df.iloc[:int(df.shape[0]*0.8)], df.iloc[int(df.shape[0]*0.8):]\n",
    "train.shape, test.shape"
   ]
  },
  {
   "cell_type": "code",
   "execution_count": 108,
   "metadata": {},
   "outputs": [],
   "source": [
    "X_train, X_test, y_train, y_test = train[['yes_ret','size']], test[['yes_ret','size']], train['labeled_y'], test['labeled_y']"
   ]
  },
  {
   "cell_type": "code",
   "execution_count": 112,
   "metadata": {
    "collapsed": true,
    "jupyter": {
     "outputs_hidden": true
    }
   },
   "outputs": [
    {
     "data": {
      "text/plain": [
       "RandomForestClassifier(bootstrap=True, class_weight=None, criterion='gini',\n",
       "                       max_depth=None, max_features='auto', max_leaf_nodes=None,\n",
       "                       min_impurity_decrease=0.0, min_impurity_split=None,\n",
       "                       min_samples_leaf=1, min_samples_split=2,\n",
       "                       min_weight_fraction_leaf=0.0, n_estimators=100,\n",
       "                       n_jobs=None, oob_score=False, random_state=None,\n",
       "                       verbose=0, warm_start=False)"
      ]
     },
     "execution_count": 112,
     "metadata": {},
     "output_type": "execute_result"
    }
   ],
   "source": [
    "# model init\n",
    "clf = RandomForestClassifier(n_estimators=100)\n",
    "\n",
    "# model fit\n",
    "clf.fit(X_train, y_train)"
   ]
  },
  {
   "cell_type": "code",
   "execution_count": 110,
   "metadata": {},
   "outputs": [
    {
     "data": {
      "text/plain": [
       "array([-0.93184389, -1.05904349, -0.95106759, -1.04336189, -1.1311626 ])"
      ]
     },
     "execution_count": 110,
     "metadata": {},
     "output_type": "execute_result"
    }
   ],
   "source": [
    "cross_val_score(clf, X=df[['size', 'yes_ret']], y=df['labeled_y'], cv=5, scoring='r2')"
   ]
  },
  {
   "cell_type": "code",
   "execution_count": 115,
   "metadata": {},
   "outputs": [],
   "source": [
    "from sklearn.metrics import roc_curve, auc, f1_score, r2_score"
   ]
  },
  {
   "cell_type": "code",
   "execution_count": 116,
   "metadata": {},
   "outputs": [
    {
     "data": {
      "text/plain": [
       "0.5483304042179261"
      ]
     },
     "execution_count": 116,
     "metadata": {},
     "output_type": "execute_result"
    }
   ],
   "source": [
    "# predict\n",
    "y_pred = clf.predict(X_test)\n",
    "f1_score(y_pred, y_test)"
   ]
  },
  {
   "cell_type": "code",
   "execution_count": 122,
   "metadata": {},
   "outputs": [],
   "source": [
    "y_score = clf.predict_proba(X_test)[:, 1]\n",
    "fpr,tpr,threshold = roc_curve(y_test, y_score)"
   ]
  },
  {
   "cell_type": "code",
   "execution_count": 126,
   "metadata": {},
   "outputs": [
    {
     "data": {
      "text/plain": [
       "<Figure size 432x288 with 0 Axes>"
      ]
     },
     "metadata": {},
     "output_type": "display_data"
    },
    {
     "data": {
      "image/png": "[encoded data removed]",
      "text/plain": [
       "<Figure size 720x720 with 1 Axes>"
      ]
     },
     "metadata": {
      "needs_background": "light"
     },
     "output_type": "display_data"
    }
   ],
   "source": [
    "import matplotlib.pyplot as plt\n",
    "roc_auc = auc(fpr,tpr) ###计算auc的值\n",
    " \n",
    "plt.figure()\n",
    "lw = 2\n",
    "plt.figure(figsize=(10,10))\n",
    "plt.plot(fpr, tpr, color='darkorange',\n",
    "         lw=lw, label='ROC curve (area = %0.2f)' % roc_auc) ###假正率为横坐标，真正率为纵坐标做曲线\n",
    "plt.plot([0, 1], [0, 1], color='navy', lw=lw, linestyle='--')\n",
    "plt.xlim([0.0, 1.0])\n",
    "plt.ylim([0.0, 1.05])\n",
    "plt.xlabel('False Positive Rate')\n",
    "plt.ylabel('True Positive Rate')\n",
    "plt.title('Receiver operating characteristic example')\n",
    "plt.legend(loc=\"lower right\")\n",
    "plt.show()"
   ]
  },
  {
   "cell_type": "code",
   "execution_count": null,
   "metadata": {},
   "outputs": [],
   "source": [
    "# y_test['proba'] = rf_probs\n",
    "# def roc_curve_(result):\n",
    "#     result.columns = ['target', 'proba']\n",
    "#     fpr,tpr,threshold = roc_curve(result['target'],result['proba']) ###计算真正率和假正率  \n",
    "#     roc_auc = auc(fpr,tpr) ###计算auc的值  \n",
    "#     plt.figure()  \n",
    "#     lw = 2  \n",
    "#     plt.figure(figsize=(10,8))  \n",
    "#     plt.plot(fpr, tpr, color='darkorange',  \n",
    "#              lw=lw, label='ROC curve (area = %0.2f)' % roc_auc)   \n",
    "#     plt.plot([0, 1], [0, 1], color='navy', lw=lw, linestyle='--')  \n",
    "#     plt.xlim([0.0, 1.0])  \n",
    "#     plt.ylim([0.0, 1.05])  \n",
    "#     plt.xlabel('False Positive Rate')  \n",
    "#     plt.ylabel('True Positive Rate')  \n",
    "#     plt.title('Roc Curve')  \n",
    "#     plt.legend(loc=\"lower right\")  \n",
    "#     plt.show() "
   ]
  },
  {
   "cell_type": "code",
   "execution_count": null,
   "metadata": {},
   "outputs": [],
   "source": []
  },
  {
   "cell_type": "code",
   "execution_count": null,
   "metadata": {},
   "outputs": [],
   "source": []
  }
 ],
 "metadata": {
  "kernelspec": {
   "display_name": "Python 3",
   "language": "python",
   "name": "python3"
  },
  "language_info": {
   "codemirror_mode": {
    "name": "ipython",
    "version": 3
   },
   "file_extension": ".py",
   "mimetype": "text/x-python",
   "name": "python",
   "nbconvert_exporter": "python",
   "pygments_lexer": "ipython3",
   "version": "3.7.3"
  }
 },
 "nbformat": 4,
 "nbformat_minor": 4
}
