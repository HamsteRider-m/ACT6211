{
 "cells": [
  {
   "cell_type": "markdown",
   "metadata": {
    "toc": true
   },
   "source": [
    "<h1>Table of Contents<span class=\"tocSkip\"></span></h1>\n",
    "<div class=\"toc\"><ul class=\"toc-item\"><li><span><a href=\"#Chapter-1---Exploring-Tick,-Volume,-DV-Bars\" data-toc-modified-id=\"Chapter-1---Exploring-Tick,-Volume,-DV-Bars-1\" data-vivaldi-spatnav-clickable=\"1\"><span class=\"toc-item-num\">1&nbsp;&nbsp;</span>Chapter 1 - Exploring Tick, Volume, DV Bars</a></span><ul class=\"toc-item\"><li><span><a href=\"#Introduction\" data-toc-modified-id=\"Introduction-1.1\" data-vivaldi-spatnav-clickable=\"1\"><span class=\"toc-item-num\">1.1&nbsp;&nbsp;</span>Introduction</a></span></li><li><span><a href=\"#Read-and-Clean-Data\" data-toc-modified-id=\"Read-and-Clean-Data-1.2\" data-vivaldi-spatnav-clickable=\"1\"><span class=\"toc-item-num\">1.2&nbsp;&nbsp;</span>Read and Clean Data</a></span></li><li><span><a href=\"#Remove-Obvious-Price-Errors-in-Tick-Data\" data-toc-modified-id=\"Remove-Obvious-Price-Errors-in-Tick-Data-1.3\" data-vivaldi-spatnav-clickable=\"1\"><span class=\"toc-item-num\">1.3&nbsp;&nbsp;</span>Remove Obvious Price Errors in Tick Data</a></span></li></ul></li><li><span><a href=\"#Tick-Bars\" data-toc-modified-id=\"Tick-Bars-2\" data-vivaldi-spatnav-clickable=\"1\"><span class=\"toc-item-num\">2&nbsp;&nbsp;</span>Tick Bars</a></span><ul class=\"toc-item\"><li><ul class=\"toc-item\"><li><span><a href=\"#Bonus-Exercise:-Make-OHLC-Bars-from-Custom-Bars\" data-toc-modified-id=\"Bonus-Exercise:-Make-OHLC-Bars-from-Custom-Bars-2.0.1\" data-vivaldi-spatnav-clickable=\"1\"><span class=\"toc-item-num\">2.0.1&nbsp;&nbsp;</span>Bonus Exercise: Make OHLC Bars from Custom Bars</a></span></li></ul></li></ul></li><li><span><a href=\"#Volume-Bars\" data-toc-modified-id=\"Volume-Bars-3\" data-vivaldi-spatnav-clickable=\"1\"><span class=\"toc-item-num\">3&nbsp;&nbsp;</span>Volume Bars</a></span></li><li><span><a href=\"#Dollar-Value-Bars\" data-toc-modified-id=\"Dollar-Value-Bars-4\" data-vivaldi-spatnav-clickable=\"1\"><span class=\"toc-item-num\">4&nbsp;&nbsp;</span>Dollar Value Bars</a></span></li><li><span><a href=\"#Analyzing-the-Bars\" data-toc-modified-id=\"Analyzing-the-Bars-5\" data-vivaldi-spatnav-clickable=\"1\"><span class=\"toc-item-num\">5&nbsp;&nbsp;</span>Analyzing the Bars</a></span><ul class=\"toc-item\"><li><span><a href=\"#Count-Quantity-of-Bars-By-Each-Bar-Type-(Weekly)\" data-toc-modified-id=\"Count-Quantity-of-Bars-By-Each-Bar-Type-(Weekly)-5.1\" data-vivaldi-spatnav-clickable=\"1\"><span class=\"toc-item-num\">5.1&nbsp;&nbsp;</span>Count Quantity of Bars By Each Bar Type (Weekly)</a></span></li><li><span><a href=\"#Which-Bar-Type-Has-Most-Stable-Counts?\" data-toc-modified-id=\"Which-Bar-Type-Has-Most-Stable-Counts?-5.2\" data-vivaldi-spatnav-clickable=\"1\"><span class=\"toc-item-num\">5.2&nbsp;&nbsp;</span>Which Bar Type Has Most Stable Counts?</a></span></li><li><span><a href=\"#Which-Bar-Type-Has-the-Lowest-Serial-Correlation?\" data-toc-modified-id=\"Which-Bar-Type-Has-the-Lowest-Serial-Correlation?-5.3\" data-vivaldi-spatnav-clickable=\"1\"><span class=\"toc-item-num\">5.3&nbsp;&nbsp;</span>Which Bar Type Has the Lowest Serial Correlation?</a></span></li><li><span><a href=\"#Partition-Bar-Series-into-Monthly,-Compute-Variance-of-Returns,-and-Variance-of-Variance\" data-toc-modified-id=\"Partition-Bar-Series-into-Monthly,-Compute-Variance-of-Returns,-and-Variance-of-Variance-5.4\" data-vivaldi-spatnav-clickable=\"1\"><span class=\"toc-item-num\">5.4&nbsp;&nbsp;</span>Partition Bar Series into Monthly, Compute Variance of Returns, and Variance of Variance</a></span></li><li><span><a href=\"#Compute-Jarque-Bera-Test,-Which-Has-Lowest-Test-Statistic?\" data-toc-modified-id=\"Compute-Jarque-Bera-Test,-Which-Has-Lowest-Test-Statistic?-5.5\" data-vivaldi-spatnav-clickable=\"1\"><span class=\"toc-item-num\">5.5&nbsp;&nbsp;</span>Compute Jarque-Bera Test, Which Has Lowest Test Statistic?</a></span></li><li><span><a href=\"#Compute-Shapiro-Wilk-Test\" data-toc-modified-id=\"Compute-Shapiro-Wilk-Test-5.6\" data-vivaldi-spatnav-clickable=\"1\"><span class=\"toc-item-num\">5.6&nbsp;&nbsp;</span>Compute Shapiro-Wilk Test</a></span></li></ul></li><li><span><a href=\"#Compare-Serial-Correlation-between-Dollar-and-Dollar-Imbalance-Bars\" data-toc-modified-id=\"Compare-Serial-Correlation-between-Dollar-and-Dollar-Imbalance-Bars-6\" data-vivaldi-spatnav-clickable=\"1\"><span class=\"toc-item-num\">6&nbsp;&nbsp;</span>Compare Serial Correlation between Dollar and Dollar Imbalance Bars</a></span><ul class=\"toc-item\"><li><ul class=\"toc-item\"><li><span><a href=\"#Update-[05.04.18]\" data-toc-modified-id=\"Update-[05.04.18]-6.0.1\" data-vivaldi-spatnav-clickable=\"1\"><span class=\"toc-item-num\">6.0.1&nbsp;&nbsp;</span>Update [05.04.18]</a></span></li></ul></li></ul></li></ul></div>"
   ]
  },
  {
   "cell_type": "markdown",
   "metadata": {},
   "source": [
    "Advances in Machine Learning"
   ]
  },
  {
   "cell_type": "markdown",
   "metadata": {},
   "source": [
    "# Chapter 1 - Exploring Tick, Volume, DV Bars"
   ]
  },
  {
   "cell_type": "code",
   "execution_count": 4,
   "metadata": {
    "ExecuteTime": {
     "end_time": "2019-10-12T10:40:21.268314Z",
     "start_time": "2019-10-12T10:40:17.268161Z"
    },
    "scrolled": true
   },
   "outputs": [
    {
     "name": "stdout",
     "output_type": "stream",
     "text": [
      "The watermark extension is already loaded. To reload it, use:\n",
      "  %reload_ext watermark\n",
      "2019-10-12T13:57:48+08:00\n",
      "\n",
      "CPython 3.7.4\n",
      "IPython 7.8.0\n",
      "\n",
      "compiler   : MSC v.1915 64 bit (AMD64)\n",
      "system     : Windows\n",
      "release    : 10\n",
      "machine    : AMD64\n",
      "processor  : Intel64 Family 6 Model 142 Stepping 9, GenuineIntel\n",
      "CPU cores  : 4\n",
      "interpreter: 64bit\n",
      "The autoreload extension is already loaded. To reload it, use:\n",
      "  %reload_ext autoreload\n"
     ]
    },
    {
     "ename": "ModuleNotFoundError",
     "evalue": "No module named 'numba'",
     "output_type": "error",
     "traceback": [
      "\u001b[1;31m---------------------------------------------------------------------------\u001b[0m",
      "\u001b[1;31mModuleNotFoundError\u001b[0m                       Traceback (most recent call last)",
      "\u001b[1;32m<ipython-input-4-4cd53ec1e5ee>\u001b[0m in \u001b[0;36m<module>\u001b[1;34m\u001b[0m\n\u001b[0;32m     27\u001b[0m \u001b[1;32mimport\u001b[0m \u001b[0mscipy\u001b[0m\u001b[1;33m.\u001b[0m\u001b[0mstats\u001b[0m \u001b[1;32mas\u001b[0m \u001b[0mstats\u001b[0m\u001b[1;33m\u001b[0m\u001b[1;33m\u001b[0m\u001b[0m\n\u001b[0;32m     28\u001b[0m \u001b[1;32mimport\u001b[0m \u001b[0mstatsmodels\u001b[0m\u001b[1;33m.\u001b[0m\u001b[0mapi\u001b[0m \u001b[1;32mas\u001b[0m \u001b[0msm\u001b[0m\u001b[1;33m\u001b[0m\u001b[1;33m\u001b[0m\u001b[0m\n\u001b[1;32m---> 29\u001b[1;33m \u001b[1;32mfrom\u001b[0m \u001b[0mnumba\u001b[0m \u001b[1;32mimport\u001b[0m \u001b[0mjit\u001b[0m\u001b[1;33m\u001b[0m\u001b[1;33m\u001b[0m\u001b[0m\n\u001b[0m\u001b[0;32m     30\u001b[0m \u001b[1;32mimport\u001b[0m \u001b[0mmath\u001b[0m\u001b[1;33m\u001b[0m\u001b[1;33m\u001b[0m\u001b[0m\n\u001b[0;32m     31\u001b[0m \u001b[1;32mimport\u001b[0m \u001b[0mpymc3\u001b[0m \u001b[1;32mas\u001b[0m \u001b[0mpm\u001b[0m\u001b[1;33m\u001b[0m\u001b[1;33m\u001b[0m\u001b[0m\n",
      "\u001b[1;31mModuleNotFoundError\u001b[0m: No module named 'numba'"
     ]
    }
   ],
   "source": [
    "%load_ext watermark\n",
    "%watermark\n",
    "\n",
    "%load_ext autoreload\n",
    "%autoreload 2\n",
    "# import standard libs\n",
    "from IPython.display import display\n",
    "#from IPython.core.debugger import set_trace as bp\n",
    "from pathlib import PurePath, Path\n",
    "import sys\n",
    "import time\n",
    "from collections import OrderedDict as od\n",
    "import re\n",
    "import os\n",
    "import json\n",
    "os.environ['THEANO_FLAGS'] = 'device=cpu,floatX=float32'\n",
    "\n",
    "# import python scientific stack\n",
    "import pandas as pd\n",
    "#import pandas_datareader.data as web\n",
    "pd.set_option('display.max_rows', 100)\n",
    "#from dask import dataframe as dd\n",
    "#from dask.diagnostics import ProgressBar\n",
    "#pbar = ProgressBar()\n",
    "#pbar.register()\n",
    "import numpy as np\n",
    "import scipy.stats as stats\n",
    "import statsmodels.api as sm\n",
    "from numba import jit\n",
    "import math\n",
    "import pymc3 as pm\n",
    "from theano import shared, theano as tt\n",
    "\n",
    "# import visual tools\n",
    "import matplotlib as mpl\n",
    "import matplotlib.pyplot as plt\n",
    "import matplotlib.gridspec as gridspec\n",
    "%matplotlib inline\n",
    "import seaborn as sns\n",
    "\n",
    "plt.style.use('seaborn-talk')\n",
    "plt.style.use('bmh')\n",
    "\n",
    "#plt.rcParams['font.family'] = 'DejaVu Sans Mono'\n",
    "#plt.rcParams['font.size'] = 9.5\n",
    "plt.rcParams['font.weight'] = 'medium'\n",
    "#plt.rcParams['figure.figsize'] = 10,7\n",
    "blue, green, red, purple, gold, teal = sns.color_palette('colorblind', 6)\n",
    "\n",
    "# import util libs\n",
    "#import pyarrow as pa\n",
    "#import pyarrow.parquet as pq\n",
    "from tqdm import tqdm, tqdm_notebook\n",
    "import warnings\n",
    "warnings.filterwarnings(\"ignore\")\n",
    "#import missingno as msno\n",
    "\n",
    "# from src.utils.utils import *\n",
    "# from src.features.bars import get_imbalance\n",
    "# import src.features.bars as brs\n",
    "# import src.features.snippets as snp\n",
    "\n",
    "RANDOM_STATE = 777\n",
    "\n",
    "print()\n",
    "#%watermark -p pandas,pandas_datareader,dask,numpy,pymc3,theano,sklearn,statsmodels,scipy,matplotlib,seaborn,pyarrow,fastparquet"
   ]
  },
  {
   "cell_type": "code",
   "execution_count": 11,
   "metadata": {},
   "outputs": [
    {
     "name": "stdout",
     "output_type": "stream",
     "text": [
      "Looking in indexes: https://pypi.tuna.tsinghua.edu.cn/simple\n",
      "Collecting pymc3\n",
      "  Downloading https://pypi.tuna.tsinghua.edu.cn/packages/42/c2/86e8be42b99d64932fa12611b502882a5f4d834b6d1d126bf3f956ad6428/pymc3-3.7-py3-none-any.whl (856kB)\n",
      "Collecting theano\n",
      "  Downloading https://pypi.tuna.tsinghua.edu.cn/packages/7d/c4/6341148ad458b6cd8361b774d7ee6895c38eab88f05331f22304c484ed5d/Theano-1.0.4.tar.gz (2.8MB)\n",
      "Collecting seaborn\n",
      "  Downloading https://pypi.tuna.tsinghua.edu.cn/packages/a8/76/220ba4420459d9c4c9c9587c6ce607bf56c25b3d3d2de62056efe482dadc/seaborn-0.9.0-py3-none-any.whl (208kB)\n",
      "Requirement already satisfied: numpy>=1.13.0 in c:\\users\\hansonmei\\anaconda3\\envs\\py37\\lib\\site-packages (from pymc3) (1.16.4)\n",
      "Requirement already satisfied: scipy>=0.18.1 in c:\\users\\hansonmei\\anaconda3\\envs\\py37\\lib\\site-packages (from pymc3) (1.3.1)\n",
      "Requirement already satisfied: patsy>=0.4.0 in c:\\users\\hansonmei\\anaconda3\\envs\\py37\\lib\\site-packages (from pymc3) (0.5.1)\n",
      "Requirement already satisfied: pandas>=0.18.0 in c:\\users\\hansonmei\\anaconda3\\envs\\py37\\lib\\site-packages (from pymc3) (0.25.1)\n",
      "Collecting tqdm>=4.8.4 (from pymc3)\n",
      "  Downloading https://pypi.tuna.tsinghua.edu.cn/packages/e1/c1/bc1dba38b48f4ae3c4428aea669c5e27bd5a7642a74c8348451e0bd8ff86/tqdm-4.36.1-py2.py3-none-any.whl (52kB)\n",
      "Collecting h5py>=2.7.0 (from pymc3)\n",
      "  Using cached https://pypi.tuna.tsinghua.edu.cn/packages/a1/6b/7f62017e3f0b32438dd90bdc1ff0b7b1448b6cb04a1ed84f37b6de95cd7b/h5py-2.10.0-cp37-cp37m-win_amd64.whl\n",
      "Requirement already satisfied: six>=1.9.0 in c:\\users\\hansonmei\\anaconda3\\envs\\py37\\lib\\site-packages (from theano) (1.12.0)\n",
      "Collecting matplotlib>=1.4.3 (from seaborn)\n",
      "  Downloading https://pypi.tuna.tsinghua.edu.cn/packages/1a/c0/69e3f695d7384012e90be1e16570c08953baae00fd98094179ef87c7d5a2/matplotlib-3.1.1-cp37-cp37m-win_amd64.whl (9.1MB)\n",
      "Requirement already satisfied: pytz>=2017.2 in c:\\users\\hansonmei\\anaconda3\\envs\\py37\\lib\\site-packages (from pandas>=0.18.0->pymc3) (2019.3)\n",
      "Requirement already satisfied: python-dateutil>=2.6.1 in c:\\users\\hansonmei\\anaconda3\\envs\\py37\\lib\\site-packages (from pandas>=0.18.0->pymc3) (2.8.0)\n",
      "Collecting kiwisolver>=1.0.1 (from matplotlib>=1.4.3->seaborn)\n",
      "  Downloading https://pypi.tuna.tsinghua.edu.cn/packages/c6/ea/e5474014a13ab2dcb5056608e0716c600c3d8a8bcffb10ed55ccd6a42eb0/kiwisolver-1.1.0-cp37-none-win_amd64.whl (57kB)\n",
      "Collecting cycler>=0.10 (from matplotlib>=1.4.3->seaborn)\n",
      "  Downloading https://pypi.tuna.tsinghua.edu.cn/packages/f7/d2/e07d3ebb2bd7af696440ce7e754c59dd546ffe1bbe732c8ab68b9c834e61/cycler-0.10.0-py2.py3-none-any.whl\n",
      "Requirement already satisfied: pyparsing!=2.0.4,!=2.1.2,!=2.1.6,>=2.0.1 in c:\\users\\hansonmei\\anaconda3\\envs\\py37\\lib\\site-packages (from matplotlib>=1.4.3->seaborn) (2.4.2)\n",
      "Requirement already satisfied: setuptools in c:\\users\\hansonmei\\anaconda3\\envs\\py37\\lib\\site-packages (from kiwisolver>=1.0.1->matplotlib>=1.4.3->seaborn) (41.4.0)\n",
      "Building wheels for collected packages: theano\n",
      "  Building wheel for theano (setup.py): started\n",
      "  Building wheel for theano (setup.py): finished with status 'done'\n",
      "  Created wheel for theano: filename=Theano-1.0.4-cp37-none-any.whl size=2667193 sha256=20a85dea99e5fe1a01cd1b5132d04e59c499d4e49c78ec81bd3b0ed266d6be42\n",
      "  Stored in directory: C:\\Users\\HansonMei\\AppData\\Local\\pip\\Cache\\wheels\\ce\\24\\79\\99058fcca3b6b710600f109d0b7c71904c9a1d31197c1f31c9\n",
      "Successfully built theano\n",
      "Installing collected packages: theano, tqdm, h5py, pymc3, kiwisolver, cycler, matplotlib, seaborn\n",
      "Successfully installed cycler-0.10.0 h5py-2.10.0 kiwisolver-1.1.0 matplotlib-3.1.1 pymc3-3.7 seaborn-0.9.0 theano-1.0.4 tqdm-4.36.1\n"
     ]
    }
   ],
   "source": [
    "!pip install pymc3 theano seaborn"
   ]
  },
  {
   "cell_type": "markdown",
   "metadata": {},
   "source": [
    "## Introduction\n",
    "\n",
    "This notebook explores the idea of sampling prices as a function of something other than fixed time intervals. For example using the number of ticks, volume or dollar volume traded as the sampling interval. The rest of this notebook works through some of the exercises found in chapters 1 and 2 of the book. \n",
    "\n",
    "This notebook makes use of the following script found here: `./src/features/bars.py`"
   ]
  },
  {
   "cell_type": "markdown",
   "metadata": {},
   "source": [
    "## Read and Clean Data"
   ]
  },
  {
   "cell_type": "markdown",
   "metadata": {},
   "source": [
    "The data set used in this example is too large to be hosted on github. It is a sample of equity tick data, symbol `IVE`, provided by [kibot.com (caution: download link)](http://api.kibot.com/?action=history&symbol=IVE&interval=tickbidask&bp=1&user=guest). Download this data to the `./data/raw/` directory in your local repo."
   ]
  },
  {
   "cell_type": "code",
   "execution_count": 2,
   "metadata": {
    "ExecuteTime": {
     "end_time": "2019-10-12T10:40:29.094069Z",
     "start_time": "2019-10-12T10:40:29.048071Z"
    },
    "collapsed": true
   },
   "outputs": [],
   "source": [
    "def cprint(df):\n",
    "    if not isinstance(df, (pd.DataFrame)):\n",
    "        try:\n",
    "            df = df.to_frame()\n",
    "        except:\n",
    "            raise ValueError('object cannot be coerced to df')\n",
    "\n",
    "    print('-'*79)\n",
    "    print('dataframe information')\n",
    "    print('-'*79)\n",
    "    print(df.tail(5))\n",
    "    print('-'*50)\n",
    "    print(df.info())\n",
    "    print('-'*79)\n",
    "    print()\n",
    "\n",
    "get_range = lambda df, col: (df[col].min(), df[col].max())"
   ]
  },
  {
   "cell_type": "code",
   "execution_count": 3,
   "metadata": {
    "ExecuteTime": {
     "end_time": "2019-10-12T10:40:59.913990Z",
     "start_time": "2019-10-12T10:40:29.599460Z"
    }
   },
   "outputs": [
    {
     "name": "stdout",
     "output_type": "stream",
     "text": [
      "-------------------------------------------------------------------------------\n",
      "dataframe information\n",
      "-------------------------------------------------------------------------------\n",
      "                      price     bid     ask  size     v        dv\n",
      "dates                                                            \n",
      "2019-10-10 15:59:59  117.41  117.39  117.41   300   300   35223.0\n",
      "2019-10-10 15:59:59  117.40  117.40  117.44   100   100   11740.0\n",
      "2019-10-10 16:00:00  117.40  117.40  117.46  4228  4228  496367.2\n",
      "2019-10-10 16:10:00  117.40  116.96  118.49     0     0       0.0\n",
      "2019-10-10 18:30:00  117.40  115.60  119.36     0     0       0.0\n",
      "--------------------------------------------------\n",
      "<class 'pandas.core.frame.DataFrame'>\n",
      "DatetimeIndex: 1668660 entries, 2009-09-28 09:30:00 to 2019-10-10 18:30:00\n",
      "Data columns (total 6 columns):\n",
      "price    1668660 non-null float64\n",
      "bid      1668660 non-null float64\n",
      "ask      1668660 non-null float64\n",
      "size     1668660 non-null int64\n",
      "v        1668660 non-null int64\n",
      "dv       1668660 non-null float64\n",
      "dtypes: float64(4), int64(2)\n",
      "memory usage: 89.1 MB\n",
      "None\n",
      "-------------------------------------------------------------------------------\n",
      "\n"
     ]
    }
   ],
   "source": [
    "def read_kibot_ticks(fp):\n",
    "    # read tick data from http://www.kibot.com/support.aspx#data_format\n",
    "    cols = list(map(str.lower,['Date','Time','Price','Bid','Ask','Size']))\n",
    "    df = (pd.read_csv(fp, header=None)\n",
    "          .rename(columns=dict(zip(range(len(cols)),cols)))\n",
    "          .assign(dates=lambda df: (pd.to_datetime(df['date']+df['time'],\n",
    "                                                  format='%m/%d/%Y%H:%M:%S')))\n",
    "          .assign(v=lambda df: df['size']) # volume\n",
    "          .assign(dv=lambda df: df['price']*df['size']) # dollar volume\n",
    "          .drop(['date','time'],axis=1)\n",
    "          .set_index('dates')\n",
    "          .drop_duplicates())\n",
    "    return df\n",
    "\n",
    "data_dir = '/Users/Lina/Documents/project/Adv_Fin_ML_Exercises/data'   \n",
    "#infp = PurePath(data_dir/'raw'/'IVE_tickbidask.txt')\n",
    "infp = PurePath(data_dir+'/raw/IVE_tickbidask.txt')\n",
    "df = read_kibot_ticks(infp)\n",
    "cprint(df)"
   ]
  },
  {
   "cell_type": "markdown",
   "metadata": {},
   "source": [
    "Save initial processed data as parquet in the `./data/interim/` folder and reload."
   ]
  },
  {
   "cell_type": "code",
   "execution_count": 28,
   "metadata": {
    "ExecuteTime": {
     "end_time": "2019-10-12T07:04:26.339711Z",
     "start_time": "2019-10-12T07:04:26.304726Z"
    }
   },
   "outputs": [
    {
     "data": {
      "text/plain": [
       "(1668660, 6)"
      ]
     },
     "execution_count": 28,
     "metadata": {},
     "output_type": "execute_result"
    }
   ],
   "source": [
    "df.shape"
   ]
  },
  {
   "cell_type": "code",
   "execution_count": 29,
   "metadata": {
    "ExecuteTime": {
     "end_time": "2019-10-12T07:04:31.128993Z",
     "start_time": "2019-10-12T07:04:31.085529Z"
    }
   },
   "outputs": [
    {
     "data": {
      "text/html": [
       "<div>\n",
       "<style scoped>\n",
       "    .dataframe tbody tr th:only-of-type {\n",
       "        vertical-align: middle;\n",
       "    }\n",
       "\n",
       "    .dataframe tbody tr th {\n",
       "        vertical-align: top;\n",
       "    }\n",
       "\n",
       "    .dataframe thead th {\n",
       "        text-align: right;\n",
       "    }\n",
       "</style>\n",
       "<table border=\"1\" class=\"dataframe\">\n",
       "  <thead>\n",
       "    <tr style=\"text-align: right;\">\n",
       "      <th></th>\n",
       "      <th>price</th>\n",
       "      <th>bid</th>\n",
       "      <th>ask</th>\n",
       "      <th>size</th>\n",
       "      <th>v</th>\n",
       "      <th>dv</th>\n",
       "    </tr>\n",
       "    <tr>\n",
       "      <th>dates</th>\n",
       "      <th></th>\n",
       "      <th></th>\n",
       "      <th></th>\n",
       "      <th></th>\n",
       "      <th></th>\n",
       "      <th></th>\n",
       "    </tr>\n",
       "  </thead>\n",
       "  <tbody>\n",
       "    <tr>\n",
       "      <td>2009-09-28 09:30:00</td>\n",
       "      <td>50.79</td>\n",
       "      <td>50.70</td>\n",
       "      <td>50.79</td>\n",
       "      <td>100</td>\n",
       "      <td>100</td>\n",
       "      <td>5079.00</td>\n",
       "    </tr>\n",
       "    <tr>\n",
       "      <td>2009-09-28 09:30:00</td>\n",
       "      <td>50.71</td>\n",
       "      <td>50.70</td>\n",
       "      <td>50.79</td>\n",
       "      <td>638</td>\n",
       "      <td>638</td>\n",
       "      <td>32352.98</td>\n",
       "    </tr>\n",
       "    <tr>\n",
       "      <td>2009-09-28 09:31:32</td>\n",
       "      <td>50.75</td>\n",
       "      <td>50.75</td>\n",
       "      <td>50.76</td>\n",
       "      <td>100</td>\n",
       "      <td>100</td>\n",
       "      <td>5075.00</td>\n",
       "    </tr>\n",
       "    <tr>\n",
       "      <td>2009-09-28 09:31:33</td>\n",
       "      <td>50.75</td>\n",
       "      <td>50.72</td>\n",
       "      <td>50.75</td>\n",
       "      <td>100</td>\n",
       "      <td>100</td>\n",
       "      <td>5075.00</td>\n",
       "    </tr>\n",
       "    <tr>\n",
       "      <td>2009-09-28 09:31:50</td>\n",
       "      <td>50.75</td>\n",
       "      <td>50.73</td>\n",
       "      <td>50.76</td>\n",
       "      <td>300</td>\n",
       "      <td>300</td>\n",
       "      <td>15225.00</td>\n",
       "    </tr>\n",
       "  </tbody>\n",
       "</table>\n",
       "</div>"
      ],
      "text/plain": [
       "                     price    bid    ask  size    v        dv\n",
       "dates                                                        \n",
       "2009-09-28 09:30:00  50.79  50.70  50.79   100  100   5079.00\n",
       "2009-09-28 09:30:00  50.71  50.70  50.79   638  638  32352.98\n",
       "2009-09-28 09:31:32  50.75  50.75  50.76   100  100   5075.00\n",
       "2009-09-28 09:31:33  50.75  50.72  50.75   100  100   5075.00\n",
       "2009-09-28 09:31:50  50.75  50.73  50.76   300  300  15225.00"
      ]
     },
     "execution_count": 29,
     "metadata": {},
     "output_type": "execute_result"
    }
   ],
   "source": [
    "df.head()"
   ]
  },
  {
   "cell_type": "code",
   "execution_count": 3,
   "metadata": {
    "ExecuteTime": {
     "end_time": "2018-05-05T00:36:29.843915Z",
     "start_time": "2018-05-05T00:36:29.029886Z"
    },
    "collapsed": true
   },
   "outputs": [],
   "source": [
    "outfp = PurePath(data_dir/'interim'/'IVE_tickbidask.parq')\n",
    "df.to_parquet(outfp)"
   ]
  },
  {
   "cell_type": "code",
   "execution_count": 4,
   "metadata": {
    "ExecuteTime": {
     "end_time": "2018-05-05T00:36:30.438528Z",
     "start_time": "2018-05-05T00:36:29.845701Z"
    }
   },
   "outputs": [
    {
     "name": "stdout",
     "output_type": "stream",
     "text": [
      "-------------------------------------------------------------------------------\n",
      "dataframe information\n",
      "-------------------------------------------------------------------------------\n",
      "                      price     bid     ask    size       v          dv\n",
      "dates                                                                  \n",
      "2018-02-26 15:59:59  115.35  115.34  115.36     700     700     80745.0\n",
      "2018-02-26 16:00:00  115.35  115.34  115.35    5362    5362    618506.7\n",
      "2018-02-26 16:10:00  115.35  115.22  115.58       0       0         0.0\n",
      "2018-02-26 16:16:14  115.30  114.72  115.62  778677  778677  89781458.1\n",
      "2018-02-26 18:30:00  115.35  114.72  117.38       0       0         0.0\n",
      "--------------------------------------------------\n",
      "<class 'pandas.core.frame.DataFrame'>\n",
      "DatetimeIndex: 1293589 entries, 2009-09-28 09:30:00 to 2018-02-26 18:30:00\n",
      "Data columns (total 6 columns):\n",
      "price    1293589 non-null float64\n",
      "bid      1293589 non-null float64\n",
      "ask      1293589 non-null float64\n",
      "size     1293589 non-null int64\n",
      "v        1293589 non-null int64\n",
      "dv       1293589 non-null float64\n",
      "dtypes: float64(4), int64(2)\n",
      "memory usage: 69.1 MB\n",
      "None\n",
      "-------------------------------------------------------------------------------\n",
      "\n"
     ]
    }
   ],
   "source": [
    "infp=PurePath(data_dir/'interim'/'IVE_tickbidask.parq')\n",
    "df = pd.read_parquet(infp)\n",
    "cprint(df)"
   ]
  },
  {
   "cell_type": "code",
   "execution_count": 5,
   "metadata": {
    "ExecuteTime": {
     "end_time": "2018-05-05T00:36:32.711789Z",
     "start_time": "2018-05-05T00:36:30.440842Z"
    },
    "collapsed": true
   },
   "outputs": [
    {
     "data": {
      "text/plain": [
       "<matplotlib.axes._subplots.AxesSubplot at 0x7fc620350390>"
      ]
     },
     "execution_count": 5,
     "metadata": {},
     "output_type": "execute_result"
    },
    {
     "data": {
      "image/png": "[encoded data removed]",
      "text/plain": [
       "<matplotlib.figure.Figure at 0x7fc67ce29fd0>"
      ]
     },
     "metadata": {},
     "output_type": "display_data"
    }
   ],
   "source": [
    "msno.matrix(df)"
   ]
  },
  {
   "cell_type": "markdown",
   "metadata": {},
   "source": [
    "## Remove Obvious Price Errors in Tick Data"
   ]
  },
  {
   "cell_type": "code",
   "execution_count": 27,
   "metadata": {
    "ExecuteTime": {
     "end_time": "2019-10-12T06:35:54.411083Z",
     "start_time": "2019-10-12T06:35:53.970792Z"
    }
   },
   "outputs": [
    {
     "data": {
      "text/plain": [
       "<matplotlib.axes._subplots.AxesSubplot at 0x10d5b9198>"
      ]
     },
     "execution_count": 27,
     "metadata": {},
     "output_type": "execute_result"
    },
    {
     "data": {
      "image/png": "[encoded data removed]",
      "text/plain": [
       "<matplotlib.figure.Figure at 0x144eee400>"
      ]
     },
     "metadata": {},
     "output_type": "display_data"
    }
   ],
   "source": [
    "sns.boxplot(df.price)"
   ]
  },
  {
   "cell_type": "code",
   "execution_count": 7,
   "metadata": {
    "ExecuteTime": {
     "end_time": "2018-05-05T00:36:33.454840Z",
     "start_time": "2018-05-05T00:36:33.142719Z"
    },
    "code_folding": [],
    "collapsed": true
   },
   "outputs": [],
   "source": [
    "@jit(nopython=True)\n",
    "def mad_outlier(y, thresh=3.):\n",
    "    '''\n",
    "    compute outliers based on mad\n",
    "    # args\n",
    "        y: assumed to be array with shape (N,1)\n",
    "        thresh: float()\n",
    "    # returns\n",
    "        array index of outliers\n",
    "    '''\n",
    "    median = np.median(y)\n",
    "    diff = np.sum((y - median)**2, axis=-1)\n",
    "    diff = np.sqrt(diff)\n",
    "    med_abs_deviation = np.median(diff)\n",
    "\n",
    "    modified_z_score = 0.6745 * diff / med_abs_deviation\n",
    "\n",
    "    return modified_z_score > thresh"
   ]
  },
  {
   "cell_type": "code",
   "execution_count": 8,
   "metadata": {
    "ExecuteTime": {
     "end_time": "2018-05-05T00:36:35.073189Z",
     "start_time": "2018-05-05T00:36:33.458178Z"
    },
    "code_folding": [],
    "collapsed": true
   },
   "outputs": [],
   "source": [
    "mad = mad_outlier(df.price.values.reshape(-1,1))"
   ]
  },
  {
   "cell_type": "code",
   "execution_count": 9,
   "metadata": {
    "ExecuteTime": {
     "end_time": "2018-05-05T00:36:35.379824Z",
     "start_time": "2018-05-05T00:36:35.076483Z"
    }
   },
   "outputs": [
    {
     "data": {
      "text/html": [
       "<div>\n",
       "<style scoped>\n",
       "    .dataframe tbody tr th:only-of-type {\n",
       "        vertical-align: middle;\n",
       "    }\n",
       "\n",
       "    .dataframe tbody tr th {\n",
       "        vertical-align: top;\n",
       "    }\n",
       "\n",
       "    .dataframe thead th {\n",
       "        text-align: right;\n",
       "    }\n",
       "</style>\n",
       "<table border=\"1\" class=\"dataframe\">\n",
       "  <thead>\n",
       "    <tr style=\"text-align: right;\">\n",
       "      <th></th>\n",
       "      <th>price</th>\n",
       "      <th>bid</th>\n",
       "      <th>ask</th>\n",
       "      <th>size</th>\n",
       "      <th>v</th>\n",
       "      <th>dv</th>\n",
       "    </tr>\n",
       "    <tr>\n",
       "      <th>dates</th>\n",
       "      <th></th>\n",
       "      <th></th>\n",
       "      <th></th>\n",
       "      <th></th>\n",
       "      <th></th>\n",
       "      <th></th>\n",
       "    </tr>\n",
       "  </thead>\n",
       "  <tbody>\n",
       "    <tr>\n",
       "      <th>2010-05-06 14:49:07</th>\n",
       "      <td>0.11</td>\n",
       "      <td>0.10</td>\n",
       "      <td>44.03</td>\n",
       "      <td>500</td>\n",
       "      <td>500</td>\n",
       "      <td>55.0</td>\n",
       "    </tr>\n",
       "    <tr>\n",
       "      <th>2010-05-06 14:53:30</th>\n",
       "      <td>1.10</td>\n",
       "      <td>1.10</td>\n",
       "      <td>30.28</td>\n",
       "      <td>2600</td>\n",
       "      <td>2600</td>\n",
       "      <td>2860.0</td>\n",
       "    </tr>\n",
       "    <tr>\n",
       "      <th>2010-05-06 14:55:32</th>\n",
       "      <td>1.10</td>\n",
       "      <td>1.10</td>\n",
       "      <td>50.57</td>\n",
       "      <td>300</td>\n",
       "      <td>300</td>\n",
       "      <td>330.0</td>\n",
       "    </tr>\n",
       "    <tr>\n",
       "      <th>2010-05-06 14:55:32</th>\n",
       "      <td>1.10</td>\n",
       "      <td>1.10</td>\n",
       "      <td>50.57</td>\n",
       "      <td>100</td>\n",
       "      <td>100</td>\n",
       "      <td>110.0</td>\n",
       "    </tr>\n",
       "    <tr>\n",
       "      <th>2010-05-06 14:55:32</th>\n",
       "      <td>1.10</td>\n",
       "      <td>1.00</td>\n",
       "      <td>50.57</td>\n",
       "      <td>200</td>\n",
       "      <td>200</td>\n",
       "      <td>220.0</td>\n",
       "    </tr>\n",
       "    <tr>\n",
       "      <th>2010-05-06 14:55:32</th>\n",
       "      <td>1.10</td>\n",
       "      <td>1.00</td>\n",
       "      <td>50.57</td>\n",
       "      <td>700</td>\n",
       "      <td>700</td>\n",
       "      <td>770.0</td>\n",
       "    </tr>\n",
       "    <tr>\n",
       "      <th>2010-05-06 14:55:32</th>\n",
       "      <td>1.10</td>\n",
       "      <td>1.00</td>\n",
       "      <td>50.57</td>\n",
       "      <td>1200</td>\n",
       "      <td>1200</td>\n",
       "      <td>1320.0</td>\n",
       "    </tr>\n",
       "    <tr>\n",
       "      <th>2010-05-06 14:55:32</th>\n",
       "      <td>1.10</td>\n",
       "      <td>0.55</td>\n",
       "      <td>50.57</td>\n",
       "      <td>500</td>\n",
       "      <td>500</td>\n",
       "      <td>550.0</td>\n",
       "    </tr>\n",
       "    <tr>\n",
       "      <th>2010-05-06 14:55:32</th>\n",
       "      <td>1.10</td>\n",
       "      <td>0.55</td>\n",
       "      <td>50.57</td>\n",
       "      <td>100</td>\n",
       "      <td>100</td>\n",
       "      <td>110.0</td>\n",
       "    </tr>\n",
       "    <tr>\n",
       "      <th>2010-05-06 14:55:32</th>\n",
       "      <td>1.10</td>\n",
       "      <td>0.55</td>\n",
       "      <td>50.57</td>\n",
       "      <td>200</td>\n",
       "      <td>200</td>\n",
       "      <td>220.0</td>\n",
       "    </tr>\n",
       "    <tr>\n",
       "      <th>2010-05-06 14:55:32</th>\n",
       "      <td>1.10</td>\n",
       "      <td>0.55</td>\n",
       "      <td>50.57</td>\n",
       "      <td>800</td>\n",
       "      <td>800</td>\n",
       "      <td>880.0</td>\n",
       "    </tr>\n",
       "  </tbody>\n",
       "</table>\n",
       "</div>"
      ],
      "text/plain": [
       "                     price   bid    ask  size     v      dv\n",
       "dates                                                      \n",
       "2010-05-06 14:49:07   0.11  0.10  44.03   500   500    55.0\n",
       "2010-05-06 14:53:30   1.10  1.10  30.28  2600  2600  2860.0\n",
       "2010-05-06 14:55:32   1.10  1.10  50.57   300   300   330.0\n",
       "2010-05-06 14:55:32   1.10  1.10  50.57   100   100   110.0\n",
       "2010-05-06 14:55:32   1.10  1.00  50.57   200   200   220.0\n",
       "2010-05-06 14:55:32   1.10  1.00  50.57   700   700   770.0\n",
       "2010-05-06 14:55:32   1.10  1.00  50.57  1200  1200  1320.0\n",
       "2010-05-06 14:55:32   1.10  0.55  50.57   500   500   550.0\n",
       "2010-05-06 14:55:32   1.10  0.55  50.57   100   100   110.0\n",
       "2010-05-06 14:55:32   1.10  0.55  50.57   200   200   220.0\n",
       "2010-05-06 14:55:32   1.10  0.55  50.57   800   800   880.0"
      ]
     },
     "execution_count": 9,
     "metadata": {},
     "output_type": "execute_result"
    }
   ],
   "source": [
    "df.loc[mad]"
   ]
  },
  {
   "cell_type": "code",
   "execution_count": 10,
   "metadata": {
    "ExecuteTime": {
     "end_time": "2018-05-05T00:36:35.827227Z",
     "start_time": "2018-05-05T00:36:35.381347Z"
    }
   },
   "outputs": [
    {
     "data": {
      "text/plain": [
       "<matplotlib.axes._subplots.AxesSubplot at 0x7fc6241e3780>"
      ]
     },
     "execution_count": 10,
     "metadata": {},
     "output_type": "execute_result"
    },
    {
     "data": {
      "image/png": "[encoded data removed]",
      "text/plain": [
       "<matplotlib.figure.Figure at 0x7fc6208863c8>"
      ]
     },
     "metadata": {},
     "output_type": "display_data"
    }
   ],
   "source": [
    "sns.boxplot(df.loc[~mad].price)"
   ]
  },
  {
   "cell_type": "markdown",
   "metadata": {},
   "source": [
    "Drop outliers from dataset and save cleaned data in the `./data/processed/` folder."
   ]
  },
  {
   "cell_type": "code",
   "execution_count": 11,
   "metadata": {
    "ExecuteTime": {
     "end_time": "2018-05-05T00:36:36.824195Z",
     "start_time": "2018-05-05T00:36:35.829852Z"
    }
   },
   "outputs": [
    {
     "name": "stdout",
     "output_type": "stream",
     "text": [
      "-------------------------------------------------------------------------------\n",
      "dataframe information\n",
      "-------------------------------------------------------------------------------\n",
      "                      price     bid     ask    size       v          dv\n",
      "dates                                                                  \n",
      "2018-02-26 15:59:59  115.35  115.34  115.36     700     700     80745.0\n",
      "2018-02-26 16:00:00  115.35  115.34  115.35    5362    5362    618506.7\n",
      "2018-02-26 16:10:00  115.35  115.22  115.58       0       0         0.0\n",
      "2018-02-26 16:16:14  115.30  114.72  115.62  778677  778677  89781458.1\n",
      "2018-02-26 18:30:00  115.35  114.72  117.38       0       0         0.0\n",
      "--------------------------------------------------\n",
      "<class 'pandas.core.frame.DataFrame'>\n",
      "DatetimeIndex: 1293578 entries, 2009-09-28 09:30:00 to 2018-02-26 18:30:00\n",
      "Data columns (total 6 columns):\n",
      "price    1293578 non-null float64\n",
      "bid      1293578 non-null float64\n",
      "ask      1293578 non-null float64\n",
      "size     1293578 non-null int64\n",
      "v        1293578 non-null int64\n",
      "dv       1293578 non-null float64\n",
      "dtypes: float64(4), int64(2)\n",
      "memory usage: 69.1 MB\n",
      "None\n",
      "-------------------------------------------------------------------------------\n",
      "\n"
     ]
    }
   ],
   "source": [
    "df = df.loc[~mad]\n",
    "cprint(df)\n",
    "\n",
    "outfp = PurePath(data_dir/'processed'/'clean_IVE_fut_prices.parq')\n",
    "df.to_parquet(outfp)"
   ]
  },
  {
   "cell_type": "code",
   "execution_count": 12,
   "metadata": {
    "ExecuteTime": {
     "end_time": "2018-05-05T00:36:37.434928Z",
     "start_time": "2018-05-05T00:36:36.826278Z"
    }
   },
   "outputs": [
    {
     "name": "stdout",
     "output_type": "stream",
     "text": [
      "-------------------------------------------------------------------------------\n",
      "dataframe information\n",
      "-------------------------------------------------------------------------------\n",
      "                      price     bid     ask    size       v          dv\n",
      "dates                                                                  \n",
      "2018-02-26 15:59:59  115.35  115.34  115.36     700     700     80745.0\n",
      "2018-02-26 16:00:00  115.35  115.34  115.35    5362    5362    618506.7\n",
      "2018-02-26 16:10:00  115.35  115.22  115.58       0       0         0.0\n",
      "2018-02-26 16:16:14  115.30  114.72  115.62  778677  778677  89781458.1\n",
      "2018-02-26 18:30:00  115.35  114.72  117.38       0       0         0.0\n",
      "--------------------------------------------------\n",
      "<class 'pandas.core.frame.DataFrame'>\n",
      "DatetimeIndex: 1293578 entries, 2009-09-28 09:30:00 to 2018-02-26 18:30:00\n",
      "Data columns (total 6 columns):\n",
      "price    1293578 non-null float64\n",
      "bid      1293578 non-null float64\n",
      "ask      1293578 non-null float64\n",
      "size     1293578 non-null int64\n",
      "v        1293578 non-null int64\n",
      "dv       1293578 non-null float64\n",
      "dtypes: float64(4), int64(2)\n",
      "memory usage: 69.1 MB\n",
      "None\n",
      "-------------------------------------------------------------------------------\n",
      "\n"
     ]
    }
   ],
   "source": [
    "infp=PurePath(data_dir/'processed'/'clean_IVE_fut_prices.parq')\n",
    "df = pd.read_parquet(infp)\n",
    "cprint(df)"
   ]
  },
  {
   "cell_type": "markdown",
   "metadata": {},
   "source": [
    "# Tick Bars"
   ]
  },
  {
   "cell_type": "code",
   "execution_count": 13,
   "metadata": {
    "ExecuteTime": {
     "end_time": "2018-05-05T00:36:37.778351Z",
     "start_time": "2018-05-05T00:36:37.437179Z"
    },
    "collapsed": true
   },
   "outputs": [],
   "source": [
    "def tick_bars(df, price_column, m):\n",
    "    '''\n",
    "    compute tick bars\n",
    "\n",
    "    # args\n",
    "        df: pd.DataFrame()\n",
    "        column: name for price data\n",
    "        m: int(), threshold value for ticks\n",
    "    # returns\n",
    "        idx: list of indices\n",
    "    '''\n",
    "    t = df[price_column]\n",
    "    ts = 0\n",
    "    idx = []\n",
    "    for i, x in enumerate(tqdm(t)):\n",
    "        ts += 1\n",
    "        if ts >= m:\n",
    "            idx.append(i)\n",
    "            ts = 0\n",
    "            continue\n",
    "    return idx\n",
    "\n",
    "def tick_bar_df(df, price_column, m):\n",
    "    idx = tick_bars(df, price_column, m)\n",
    "    return df.iloc[idx].drop_duplicates()"
   ]
  },
  {
   "cell_type": "markdown",
   "metadata": {},
   "source": [
    "There are many ways to choose `M`, or the threshold value for sampling prices. One way is based on ratios of total dollar value/volume traded vs number of ticks. The rest of the notebook uses an arbitrary but sensible `M` value. I leave it as an exercise for the reader to see how the results change based on different values of `M`."
   ]
  },
  {
   "cell_type": "code",
   "execution_count": 14,
   "metadata": {
    "ExecuteTime": {
     "end_time": "2018-05-05T00:36:38.140768Z",
     "start_time": "2018-05-05T00:36:37.782229Z"
    }
   },
   "outputs": [
    {
     "name": "stdout",
     "output_type": "stream",
     "text": [
      "num ticks: 1,293,578\n",
      "volume ratio: 536.0\n",
      "dollar ratio: 43767.0\n"
     ]
    }
   ],
   "source": [
    "n_ticks = df.shape[0]\n",
    "volume_ratio = (df.v.sum()/n_ticks).round()\n",
    "dollar_ratio = (df.dv.sum()/n_ticks).round()\n",
    "print(f'num ticks: {n_ticks:,}')\n",
    "print(f'volume ratio: {volume_ratio}')\n",
    "print(f'dollar ratio: {dollar_ratio}')"
   ]
  },
  {
   "cell_type": "code",
   "execution_count": 15,
   "metadata": {
    "ExecuteTime": {
     "end_time": "2018-05-05T00:36:38.932231Z",
     "start_time": "2018-05-05T00:36:38.142830Z"
    }
   },
   "outputs": [
    {
     "name": "stderr",
     "output_type": "stream",
     "text": [
      " 16%|█▌        | 201521/1293578 [00:00<00:00, 2014779.60it/s]"
     ]
    },
    {
     "name": "stdout",
     "output_type": "stream",
     "text": [
      "tick threshold: 100\n"
     ]
    },
    {
     "name": "stderr",
     "output_type": "stream",
     "text": [
      "100%|██████████| 1293578/1293578 [00:00<00:00, 2701348.96it/s]\n"
     ]
    },
    {
     "data": {
      "text/plain": [
       "[99, 199, 299, 399, 499, 599, 699, 799, 899, 999]"
      ]
     },
     "execution_count": 15,
     "metadata": {},
     "output_type": "execute_result"
    }
   ],
   "source": [
    "tick_M = 100 # arbitrary\n",
    "print(f'tick threshold: {tick_M:,}')\n",
    "tidx = tick_bars(df, 'price', tick_M)\n",
    "tidx[:10]"
   ]
  },
  {
   "cell_type": "code",
   "execution_count": 16,
   "metadata": {
    "ExecuteTime": {
     "end_time": "2018-05-05T00:36:39.266920Z",
     "start_time": "2018-05-05T00:36:38.933579Z"
    }
   },
   "outputs": [
    {
     "data": {
      "text/plain": [
       "((12935, 6), (1293578, 6))"
      ]
     },
     "execution_count": 16,
     "metadata": {},
     "output_type": "execute_result"
    }
   ],
   "source": [
    "df.iloc[tidx].shape, df.shape"
   ]
  },
  {
   "cell_type": "markdown",
   "metadata": {},
   "source": [
    "Dataset is large so select smaller example for quick exploration"
   ]
  },
  {
   "cell_type": "code",
   "execution_count": 17,
   "metadata": {
    "ExecuteTime": {
     "end_time": "2018-05-05T00:36:40.120356Z",
     "start_time": "2018-05-05T00:36:39.269233Z"
    },
    "scrolled": true
   },
   "outputs": [
    {
     "name": "stderr",
     "output_type": "stream",
     "text": [
      "100%|██████████| 1293578/1293578 [00:00<00:00, 2596507.45it/s]\n"
     ]
    },
    {
     "data": {
      "text/plain": [
       "(12935, 6)"
      ]
     },
     "execution_count": 17,
     "metadata": {},
     "output_type": "execute_result"
    }
   ],
   "source": [
    "tick_df = tick_bar_df(df, 'price', tick_M)\n",
    "tick_df.shape"
   ]
  },
  {
   "cell_type": "code",
   "execution_count": 18,
   "metadata": {
    "ExecuteTime": {
     "end_time": "2018-05-05T00:36:46.224121Z",
     "start_time": "2018-05-05T00:36:40.122783Z"
    }
   },
   "outputs": [
    {
     "data": {
      "text/plain": [
       "((1466,), (15,))"
      ]
     },
     "execution_count": 18,
     "metadata": {},
     "output_type": "execute_result"
    }
   ],
   "source": [
    "def select_sample_data(ref, sub, price_col, date):\n",
    "    '''\n",
    "    select a sample of data based on date, assumes datetimeindex\n",
    "    \n",
    "    # args\n",
    "        ref: pd.DataFrame containing all ticks\n",
    "        sub: subordinated pd.DataFrame of prices\n",
    "        price_col: str(), price column\n",
    "        date: str(), date to select\n",
    "    # returns\n",
    "        xdf: ref pd.Series\n",
    "        xtdf: subordinated pd.Series\n",
    "    '''\n",
    "    xdf = ref[price_col].loc[date]\n",
    "    xtdf = sub[price_col].loc[date]\n",
    "    return xdf, xtdf\n",
    "\n",
    "## try different dates to see how the quantity of tick bars changes\n",
    "xDate ='2009-10-01' #'2017-10-4'\n",
    "xdf, xtdf = select_sample_data(df, tick_df, 'price', xDate)\n",
    "\n",
    "xdf.shape, xtdf.shape"
   ]
  },
  {
   "cell_type": "code",
   "execution_count": 19,
   "metadata": {
    "ExecuteTime": {
     "end_time": "2018-05-05T00:36:47.034945Z",
     "start_time": "2018-05-05T00:36:46.226037Z"
    }
   },
   "outputs": [
    {
     "data": {
      "image/png": "[encoded data removed]",
      "text/plain": [
       "<matplotlib.figure.Figure at 0x7fc62041e940>"
      ]
     },
     "metadata": {},
     "output_type": "display_data"
    }
   ],
   "source": [
    "def plot_sample_data(ref, sub, bar_type, *args, **kwds):\n",
    "    f,axes=plt.subplots(3,sharex=True, sharey=True, figsize=(10,7))\n",
    "    ref.plot(*args, **kwds, ax=axes[0], label='price')\n",
    "    sub.plot(*args, **kwds, ax=axes[0], marker='X', ls='', label=bar_type)\n",
    "    axes[0].legend();\n",
    "    \n",
    "    ref.plot(*args, **kwds, ax=axes[1], label='price', marker='o')\n",
    "    sub.plot(*args, **kwds, ax=axes[2], ls='', marker='X',\n",
    "             color='r', label=bar_type)\n",
    "\n",
    "    for ax in axes[1:]: ax.legend()\n",
    "    plt.tight_layout()\n",
    "    \n",
    "    return\n",
    "\n",
    "plot_sample_data(xdf, xtdf, 'tick bar', alpha=0.5, markersize=7)"
   ]
  },
  {
   "cell_type": "code",
   "execution_count": null,
   "metadata": {},
   "outputs": [],
   "source": []
  },
  {
   "cell_type": "markdown",
   "metadata": {
    "heading_collapsed": true
   },
   "source": [
    "### Bonus Exercise: Make OHLC Bars from Custom Bars"
   ]
  },
  {
   "cell_type": "markdown",
   "metadata": {
    "hidden": true
   },
   "source": [
    "Extract `tick_df.price` and `df.price` into two pandas series."
   ]
  },
  {
   "cell_type": "code",
   "execution_count": 20,
   "metadata": {
    "ExecuteTime": {
     "end_time": "2018-05-05T00:36:47.302701Z",
     "start_time": "2018-05-05T00:36:47.036224Z"
    },
    "collapsed": true,
    "hidden": true
   },
   "outputs": [],
   "source": [
    "sub = tick_df.price\n",
    "ref = df.price"
   ]
  },
  {
   "cell_type": "markdown",
   "metadata": {
    "hidden": true
   },
   "source": [
    "The function below creates the OHLC dataframe by:\n",
    "    1. Iterating over the subordinated series' index extracting idx and idx+1 period\n",
    "    2. Selecting the same date period from the reference series\n",
    "    3. Extracting the max, min prices from the reference series.\n",
    "    4. Combining the o,h,l,c and start and end timestamps into a row\n",
    "    5. Returning the aggregated rows as a pandas dataframe."
   ]
  },
  {
   "cell_type": "code",
   "execution_count": 21,
   "metadata": {
    "ExecuteTime": {
     "end_time": "2018-05-05T00:36:47.600145Z",
     "start_time": "2018-05-05T00:36:47.304265Z"
    },
    "collapsed": true,
    "hidden": true
   },
   "outputs": [],
   "source": [
    "def get_ohlc(ref, sub):\n",
    "    '''\n",
    "    fn: get ohlc from custom bars\n",
    "    \n",
    "    # args\n",
    "        ref : reference pandas series with all prices\n",
    "        sub : custom tick pandas series\n",
    "    # returns\n",
    "        tick_df : dataframe with ohlc values\n",
    "    '''\n",
    "    ohlc = []\n",
    "    for i in tqdm(range(sub.index.shape[0]-1)):\n",
    "        start,end = sub.index[i], sub.index[i+1]\n",
    "        tmp_ref = ref.loc[start:end]\n",
    "        max_px, min_px = tmp_ref.max(), tmp_ref.min()\n",
    "        o,h,l,c = sub.iloc[i], max_px, min_px, sub.iloc[i+1]\n",
    "        ohlc.append((end,start,o,h,l,c))\n",
    "    cols = ['end','start','open','high','low','close']\n",
    "    return (pd.DataFrame(ohlc,columns=cols))\n",
    "\n",
    "## uncomment below to run (takes about 5-6 mins on my machine)\n",
    "#tick_bars_ohlc = get_ohlc(ref, sub)\n",
    "#cprint(tick_bars_ohlc)\n",
    "\n",
    "#outfp = PurePath(data_dir/'processed'/'tick_bars_ohlc.parq')\n",
    "#tick_bars_ohlc.to_parquet(outfp)"
   ]
  },
  {
   "cell_type": "markdown",
   "metadata": {},
   "source": [
    "# Volume Bars"
   ]
  },
  {
   "cell_type": "code",
   "execution_count": 4,
   "metadata": {
    "ExecuteTime": {
     "end_time": "2019-10-12T10:40:59.966160Z",
     "start_time": "2019-10-12T10:40:59.916924Z"
    },
    "collapsed": true
   },
   "outputs": [],
   "source": [
    "import pdb"
   ]
  },
  {
   "cell_type": "code",
   "execution_count": 7,
   "metadata": {
    "ExecuteTime": {
     "end_time": "2019-10-12T10:42:31.879758Z",
     "start_time": "2019-10-12T10:42:31.839640Z"
    },
    "collapsed": true
   },
   "outputs": [],
   "source": [
    "def volume_bars(df, volume_column, m):\n",
    "    '''\n",
    "    compute volume bars\n",
    "\n",
    "    # args\n",
    "        df: pd.DataFrame()\n",
    "        volume_column: name for volume data\n",
    "        m: int(), threshold value for volume\n",
    "    # returns\n",
    "        idx: list of indices\n",
    "    '''\n",
    "    t = df[volume_column]\n",
    "    ts = 0\n",
    "    idx = []\n",
    "    #pdb.set_trace()\n",
    "    for i, x in enumerate(tqdm(t)):\n",
    "        ts += x\n",
    "        if ts >= m:\n",
    "            idx.append(i)\n",
    "            ts = 0\n",
    "            continue\n",
    "    return idx\n",
    "\n",
    "def volume_bar_df(df, volume_column, m):\n",
    "    idx = volume_bars(df, volume_column, m)\n",
    "    return df.iloc[idx].drop_duplicates()"
   ]
  },
  {
   "cell_type": "code",
   "execution_count": 8,
   "metadata": {
    "ExecuteTime": {
     "end_time": "2019-10-12T10:42:34.588567Z",
     "start_time": "2019-10-12T10:42:33.361259Z"
    }
   },
   "outputs": [
    {
     "name": "stderr",
     "output_type": "stream",
     "text": [
      "\n",
      "  0%|          | 0/1668660 [00:00<?, ?it/s]\u001b[A\n",
      "  7%|▋         | 123291/1668660 [00:00<00:01, 1232899.42it/s]\u001b[A"
     ]
    },
    {
     "name": "stdout",
     "output_type": "stream",
     "text": [
      "volume threshold: 10,000\n"
     ]
    },
    {
     "name": "stderr",
     "output_type": "stream",
     "text": [
      "\n",
      " 15%|█▌        | 257507/1668660 [00:00<00:01, 1263762.47it/s]\u001b[A\n",
      " 24%|██▍       | 397610/1668660 [00:00<00:00, 1302028.94it/s]\u001b[A\n",
      " 33%|███▎      | 549329/1668660 [00:00<00:00, 1359881.63it/s]\u001b[A\n",
      " 42%|████▏     | 708397/1668660 [00:00<00:00, 1421768.18it/s]\u001b[A\n",
      " 52%|█████▏    | 866433/1668660 [00:00<00:00, 1465896.34it/s]\u001b[A\n",
      " 62%|██████▏   | 1029486/1668660 [00:00<00:00, 1511685.97it/s]\u001b[A\n",
      " 72%|███████▏  | 1193701/1668660 [00:00<00:00, 1548591.63it/s]\u001b[A\n",
      " 81%|████████▏ | 1359246/1668660 [00:00<00:00, 1579171.38it/s]\u001b[A\n",
      "100%|██████████| 1668660/1668660 [00:01<00:00, 1542744.54it/s]\u001b[A\n"
     ]
    },
    {
     "name": "stdout",
     "output_type": "stream",
     "text": [
      "-------------------------------------------------------------------------------\n",
      "dataframe information\n",
      "-------------------------------------------------------------------------------\n",
      "                       price     bid     ask  size     v        dv\n",
      "dates                                                             \n",
      "2019-10-10 15:51:54  117.510  117.51  117.52   900   900  105759.0\n",
      "2019-10-10 15:55:00  117.440  117.44  117.45  1200  1200  140928.0\n",
      "2019-10-10 15:57:30  117.422  117.42  117.43   350   350   41097.7\n",
      "2019-10-10 15:59:59  117.400  117.38  117.40  2600  2600  305240.0\n",
      "2019-10-10 15:59:59  117.410  117.39  117.41  2600  2600  305266.0\n",
      "--------------------------------------------------\n",
      "<class 'pandas.core.frame.DataFrame'>\n",
      "DatetimeIndex: 70249 entries, 2009-09-28 09:44:09 to 2019-10-10 15:59:59\n",
      "Data columns (total 6 columns):\n",
      "price    70249 non-null float64\n",
      "bid      70249 non-null float64\n",
      "ask      70249 non-null float64\n",
      "size     70249 non-null int64\n",
      "v        70249 non-null int64\n",
      "dv       70249 non-null float64\n",
      "dtypes: float64(4), int64(2)\n",
      "memory usage: 3.8 MB\n",
      "None\n",
      "-------------------------------------------------------------------------------\n",
      "\n"
     ]
    }
   ],
   "source": [
    "volume_M =  10_000 # arbitrary \n",
    "print(f'volume threshold: {volume_M:,}')\n",
    "v_bar_df = volume_bar_df(df, 'v', volume_M)\n",
    "cprint(v_bar_df)"
   ]
  },
  {
   "cell_type": "code",
   "execution_count": 23,
   "metadata": {
    "ExecuteTime": {
     "end_time": "2018-05-05T00:36:48.774435Z",
     "start_time": "2018-05-05T00:36:47.900399Z"
    },
    "code_folding": []
   },
   "outputs": [
    {
     "name": "stderr",
     "output_type": "stream",
     "text": [
      " 10%|█         | 134661/1293578 [00:00<00:00, 1346315.98it/s]"
     ]
    },
    {
     "name": "stdout",
     "output_type": "stream",
     "text": [
      "volume threshold: 10,000\n"
     ]
    },
    {
     "name": "stderr",
     "output_type": "stream",
     "text": [
      "100%|██████████| 1293578/1293578 [00:00<00:00, 2407460.21it/s]"
     ]
    },
    {
     "name": "stdout",
     "output_type": "stream",
     "text": [
      "-------------------------------------------------------------------------------\n",
      "dataframe information\n",
      "-------------------------------------------------------------------------------\n",
      "                      price     bid     ask    size       v           dv\n",
      "dates                                                                   \n",
      "2018-02-26 15:49:42  115.20  115.17  115.18     800     800     92160.00\n",
      "2018-02-26 15:49:42  115.25  115.17  115.18   23923   23923   2757125.75\n",
      "2018-02-26 15:58:15  115.24  115.24  115.25    3900    3900    449436.00\n",
      "2018-02-26 16:00:00  115.35  115.34  115.35    5362    5362    618506.70\n",
      "2018-02-26 16:16:14  115.30  114.72  115.62  778677  778677  89781458.10\n",
      "--------------------------------------------------\n",
      "<class 'pandas.core.frame.DataFrame'>\n",
      "DatetimeIndex: 54903 entries, 2009-09-28 09:44:09 to 2018-02-26 16:16:14\n",
      "Data columns (total 6 columns):\n",
      "price    54903 non-null float64\n",
      "bid      54903 non-null float64\n",
      "ask      54903 non-null float64\n",
      "size     54903 non-null int64\n",
      "v        54903 non-null int64\n",
      "dv       54903 non-null float64\n",
      "dtypes: float64(4), int64(2)\n",
      "memory usage: 2.9 MB\n",
      "None\n",
      "-------------------------------------------------------------------------------\n",
      "\n"
     ]
    },
    {
     "name": "stderr",
     "output_type": "stream",
     "text": [
      "\n"
     ]
    }
   ],
   "source": [
    "volume_M =  10_000 # arbitrary \n",
    "print(f'volume threshold: {volume_M:,}')\n",
    "v_bar_df = volume_bar_df(df, 'v', 'price', volume_M)\n",
    "cprint(v_bar_df)"
   ]
  },
  {
   "cell_type": "code",
   "execution_count": 24,
   "metadata": {
    "ExecuteTime": {
     "end_time": "2018-05-05T00:36:55.626890Z",
     "start_time": "2018-05-05T00:36:48.776371Z"
    }
   },
   "outputs": [
    {
     "name": "stdout",
     "output_type": "stream",
     "text": [
      "xdf shape: (1466,), xtdf shape: (48,)\n"
     ]
    },
    {
     "data": {
      "image/png": "[encoded data removed]",
      "text/plain": [
       "<matplotlib.figure.Figure at 0x7fc6242165f8>"
      ]
     },
     "metadata": {},
     "output_type": "display_data"
    }
   ],
   "source": [
    "xDate = '2009-10-1'\n",
    "xdf, xtdf = select_sample_data(df, v_bar_df, 'price', xDate)\n",
    "print(f'xdf shape: {xdf.shape}, xtdf shape: {xtdf.shape}')\n",
    "\n",
    "plot_sample_data(xdf, xtdf, 'volume bar', alpha=0.5, markersize=7)  "
   ]
  },
  {
   "cell_type": "markdown",
   "metadata": {},
   "source": [
    "# Dollar Value Bars"
   ]
  },
  {
   "cell_type": "code",
   "execution_count": 25,
   "metadata": {
    "ExecuteTime": {
     "end_time": "2018-05-05T00:36:55.921723Z",
     "start_time": "2018-05-05T00:36:55.628100Z"
    },
    "collapsed": true
   },
   "outputs": [],
   "source": [
    "def dollar_bars(df, dv_column, m):\n",
    "    '''\n",
    "    compute dollar bars\n",
    "\n",
    "    # args\n",
    "        df: pd.DataFrame()\n",
    "        dv_column: name for dollar volume data\n",
    "        m: int(), threshold value for dollars\n",
    "    # returns\n",
    "        idx: list of indices\n",
    "    '''\n",
    "    t = df[column]\n",
    "    ts = 0\n",
    "    idx = []\n",
    "    for i, x in enumerate(tqdm(t)):\n",
    "        ts += x\n",
    "        if ts >= m:\n",
    "            idx.append(i)\n",
    "            ts = 0\n",
    "            continue\n",
    "    return idx\n",
    "\n",
    "def dollar_bar_df(df, dv_column, m):\n",
    "    idx = dollar_bars(df, dv_column, m)\n",
    "    return df.iloc[idx].drop_duplicates()"
   ]
  },
  {
   "cell_type": "code",
   "execution_count": 26,
   "metadata": {
    "ExecuteTime": {
     "end_time": "2018-05-05T00:36:56.779280Z",
     "start_time": "2018-05-05T00:36:55.923791Z"
    }
   },
   "outputs": [
    {
     "name": "stderr",
     "output_type": "stream",
     "text": [
      " 14%|█▎        | 176990/1293578 [00:00<00:00, 1769593.70it/s]"
     ]
    },
    {
     "name": "stdout",
     "output_type": "stream",
     "text": [
      "dollar threshold: 1,000,000\n"
     ]
    },
    {
     "name": "stderr",
     "output_type": "stream",
     "text": [
      "100%|██████████| 1293578/1293578 [00:00<00:00, 2426948.50it/s]"
     ]
    },
    {
     "name": "stdout",
     "output_type": "stream",
     "text": [
      "-------------------------------------------------------------------------------\n",
      "dataframe information\n",
      "-------------------------------------------------------------------------------\n",
      "                        price     bid     ask    size       v            dv\n",
      "dates                                                                      \n",
      "2018-02-26 15:42:24  115.3199  115.31  115.32     290     290  3.344277e+04\n",
      "2018-02-26 15:49:42  115.2500  115.17  115.18   23923   23923  2.757126e+06\n",
      "2018-02-26 15:58:15  115.2400  115.24  115.25    3900    3900  4.494360e+05\n",
      "2018-02-26 16:00:00  115.3500  115.34  115.35    5362    5362  6.185067e+05\n",
      "2018-02-26 16:16:14  115.3000  114.72  115.62  778677  778677  8.978146e+07\n",
      "--------------------------------------------------\n",
      "<class 'pandas.core.frame.DataFrame'>\n",
      "DatetimeIndex: 44812 entries, 2009-09-28 09:46:35 to 2018-02-26 16:16:14\n",
      "Data columns (total 6 columns):\n",
      "price    44812 non-null float64\n",
      "bid      44812 non-null float64\n",
      "ask      44812 non-null float64\n",
      "size     44812 non-null int64\n",
      "v        44812 non-null int64\n",
      "dv       44812 non-null float64\n",
      "dtypes: float64(4), int64(2)\n",
      "memory usage: 2.4 MB\n",
      "None\n",
      "-------------------------------------------------------------------------------\n",
      "\n"
     ]
    },
    {
     "name": "stderr",
     "output_type": "stream",
     "text": [
      "\n"
     ]
    }
   ],
   "source": [
    "dollar_M = 1_000_000 # arbitrary \n",
    "print(f'dollar threshold: {dollar_M:,}')\n",
    "dv_bar_df = dollar_bar_df(df, 'dv', 'price', dollar_M)\n",
    "cprint(dv_bar_df)"
   ]
  },
  {
   "cell_type": "code",
   "execution_count": 27,
   "metadata": {
    "ExecuteTime": {
     "end_time": "2018-05-05T00:37:03.626421Z",
     "start_time": "2018-05-05T00:36:56.782573Z"
    }
   },
   "outputs": [
    {
     "name": "stdout",
     "output_type": "stream",
     "text": [
      "xdf shape: (1466,), xtdf shape: (26,)\n"
     ]
    },
    {
     "data": {
      "image/png": "[encoded data removed]",
      "text/plain": [
       "<matplotlib.figure.Figure at 0x7fc624207cf8>"
      ]
     },
     "metadata": {},
     "output_type": "display_data"
    }
   ],
   "source": [
    "xDate = '2009-10-1'\n",
    "xdf, xtdf = select_sample_data(df, dv_bar_df, 'price', xDate)\n",
    "print(f'xdf shape: {xdf.shape}, xtdf shape: {xtdf.shape}')\n",
    "\n",
    "plot_sample_data(xdf, xtdf, 'dollar bar', alpha=0.5, markersize=7)  "
   ]
  },
  {
   "cell_type": "code",
   "execution_count": null,
   "metadata": {},
   "outputs": [],
   "source": []
  }
 ],
 "metadata": {
  "kernelspec": {
   "display_name": "Python 3",
   "language": "python",
   "name": "python3"
  },
  "language_info": {
   "codemirror_mode": {
    "name": "ipython",
    "version": 3
   },
   "file_extension": ".py",
   "mimetype": "text/x-python",
   "name": "python",
   "nbconvert_exporter": "python",
   "pygments_lexer": "ipython3",
   "version": "3.7.4"
  },
  "toc": {
   "base_numbering": 1,
   "nav_menu": {},
   "number_sections": true,
   "sideBar": true,
   "skip_h1_title": false,
   "title_cell": "Table of Contents",
   "title_sidebar": "Contents",
   "toc_cell": true,
   "toc_position": {
    "height": "calc(100% - 180px)",
    "left": "10px",
    "top": "150px",
    "width": "257px"
   },
   "toc_section_display": true,
   "toc_window_display": true
  },
  "varInspector": {
   "cols": {
    "lenName": 16,
    "lenType": 16,
    "lenVar": 40
   },
   "kernels_config": {
    "python": {
     "delete_cmd_postfix": "",
     "delete_cmd_prefix": "del ",
     "library": "var_list.py",
     "varRefreshCmd": "print(var_dic_list())"
    },
    "r": {
     "delete_cmd_postfix": ") ",
     "delete_cmd_prefix": "rm(",
     "library": "var_list.r",
     "varRefreshCmd": "cat(var_dic_list()) "
    }
   },
   "types_to_exclude": [
    "module",
    "function",
    "builtin_function_or_method",
    "instance",
    "_Feature"
   ],
   "window_display": false
  }
 },
 "nbformat": 4,
 "nbformat_minor": 2
}
